{
 "cells": [
  {
   "cell_type": "markdown",
   "id": "939e52f5-6d04-469c-bb07-0104eca4b79b",
   "metadata": {},
   "source": [
    "# Data Science Tools and Ecosystem"
   ]
  },
  {
   "cell_type": "markdown",
   "id": "4954e082-4689-4511-a600-32c15e8831a6",
   "metadata": {},
   "source": [
    "In this notebook, Data Science Tools and Ecosystem are summarized"
   ]
  },
  {
   "cell_type": "markdown",
   "id": "62376e6e-2e80-4537-a75c-736f3114e46e",
   "metadata": {
    "tags": []
   },
   "source": [
    "**Objectives:** \n",
    "* List popular languages for Data Science\n",
    "* List most common libraries for Data Science\n",
    "* Remember how to create tables in markdowns\n",
    "* List popular IDE's for Data Sicence "
   ]
  },
  {
   "cell_type": "markdown",
   "id": "0c6959de-d550-4942-be51-bf78445a03f0",
   "metadata": {},
   "source": [
    "Some of the most popular languages that Data Scientist use are:\n",
    "1. Python\n",
    "2. R\n",
    "3. Julia\n",
    "4. Java\n",
    "5. JavaScript\n",
    "6. XML\n",
    "7. C\n",
    "8. C++\n",
    "9. SQL"
   ]
  },
  {
   "cell_type": "markdown",
   "id": "c24d78ba-5460-4ae2-826b-28a4c5f6abe8",
   "metadata": {},
   "source": [
    "Some of commonly used libraries used by Data Scientist include:\n",
    "\n",
    "1. Pandas\n",
    "2. Numpy\n",
    "3. Scikit-learn\n",
    "4. Matplotlib\n",
    "\n"
   ]
  },
  {
   "cell_type": "markdown",
   "id": "5e7d2673-c784-4136-ae68-e4c43db2feda",
   "metadata": {
    "tags": []
   },
   "source": [
    "| Data Science Tools|\n",
    "|---|\n",
    "|Anaconda|\n",
    "|Visual Studio Code|\n",
    "|R studio|"
   ]
  },
  {
   "cell_type": "markdown",
   "id": "02590c9d-0532-4e4a-b472-a67045695832",
   "metadata": {},
   "source": [
    "### Below are few examples of evaluating arithmetic expressions in Python"
   ]
  },
  {
   "cell_type": "code",
   "execution_count": 11,
   "id": "fc05079a-1b00-4015-ae4d-89067e6b1292",
   "metadata": {
    "tags": []
   },
   "outputs": [
    {
     "data": {
      "text/plain": [
       "17"
      ]
     },
     "execution_count": 11,
     "metadata": {},
     "output_type": "execute_result"
    }
   ],
   "source": [
    "# This is a simple arithmetic expression to multiply then add integers\n",
    "(3*4)+5"
   ]
  },
  {
   "cell_type": "code",
   "execution_count": 21,
   "id": "c9948548-9404-4c44-a36a-87b4b1afdcbf",
   "metadata": {
    "tags": []
   },
   "outputs": [
    {
     "name": "stdout",
     "output_type": "stream",
     "text": [
      "200 minutes = 3.33 hours.\n"
     ]
    }
   ],
   "source": [
    "# This will convert 200 minutes to hours by diving by 60\n",
    "\n",
    "x = 200 \n",
    "\n",
    "y = 200 / 60\n",
    "\n",
    "print(f\"{x} minutes = {y:.2f} hours.\")"
   ]
  },
  {
   "cell_type": "markdown",
   "id": "e16cdb0e-285d-4084-9e77-c1d07f83fa85",
   "metadata": {},
   "source": [
    "## Autor \n",
    "David Díaz Sánchez"
   ]
  }
 ],
 "metadata": {
  "kernelspec": {
   "display_name": "Python 3 (ipykernel)",
   "language": "python",
   "name": "python3"
  },
  "language_info": {
   "codemirror_mode": {
    "name": "ipython",
    "version": 3
   },
   "file_extension": ".py",
   "mimetype": "text/x-python",
   "name": "python",
   "nbconvert_exporter": "python",
   "pygments_lexer": "ipython3",
   "version": "3.11.7"
  }
 },
 "nbformat": 4,
 "nbformat_minor": 5
}
